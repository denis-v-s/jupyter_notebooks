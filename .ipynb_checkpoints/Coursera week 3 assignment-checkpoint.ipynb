{
 "cells": [
  {
   "cell_type": "code",
   "execution_count": 3,
   "metadata": {},
   "outputs": [
    {
     "name": "stdout",
     "output_type": "stream",
     "text": [
      "Available Themes: \n",
      "   chesterish\n",
      "   grade3\n",
      "   gruvboxd\n",
      "   gruvboxl\n",
      "   monokai\n",
      "   oceans16\n",
      "   onedork\n",
      "   solarizedd\n",
      "   solarizedl\n"
     ]
    }
   ],
   "source": [
    "!jt -l"
   ]
  },
  {
   "cell_type": "code",
   "execution_count": 94,
   "metadata": {
    "ExecuteTime": {
     "end_time": "2019-03-30T04:23:38.391473Z",
     "start_time": "2019-03-30T04:23:37.716281Z"
    }
   },
   "outputs": [],
   "source": [
    "!jt -t grade3"
   ]
  },
  {
   "cell_type": "markdown",
   "metadata": {},
   "source": [
    "### Question 1"
   ]
  },
  {
   "cell_type": "markdown",
   "metadata": {
    "cell_style": "center"
   },
   "source": [
    "1) Load the energy data from the file Energy Indicators.xls into a DataFrame with the variable name of **energy**\n",
    "* exclude the footer and header information from the datafile\n",
    "* The first two columns are unneccessary, so you should get rid of them\n",
    "* change the column labels so that the columns are: `'Country', 'Energy Supply', 'Energy Supply per Capita', '% Renewable'`\n",
    "* Convert Energy Supply to gigajoules (there are 1,000,000 gigajoules in a petajoule)\n",
    "* For all countries which have missing data (e.g. data with \"...\") make sure this is reflected as np.NaN values.\n",
    "* Rename the following list of countries (for use in later questions):\n",
    " * \"Republic of Korea\": \"South Korea\",\n",
    " * \"United States of America\": \"United States\",\n",
    " * \"United Kingdom of Great Britain and Northern Ireland\": \"United Kingdom\",\n",
    " * \"China, Hong Kong Special Administrative Region\": \"Hong Kong\"\n",
    "* There are also several countries with numbers and/or parenthesis in their name. Be sure to remove these, e.g. *('Bolivia (Plurinational State of)' should be 'Bolivia', 'Switzerland17' should be 'Switzerland'.)*\n",
    "\n",
    "2) Next, load the GDP data from the file world_bank.csv, which is a csv containing countries' GDP from 1960 to 2015 from World Bank. Call this DataFrame GDP.\n",
    "* Skip the header, and rename the following list of countries:\n",
    " * \"Korea, Rep.\": \"South Korea\", \n",
    " * \"Iran, Islamic Rep.\": \"Iran\",\n",
    " * \"Hong Kong SAR, China\": \"Hong Kong\"\n",
    " \n",
    "3) Finally, load the Sciamgo Journal and Country Rank data for Energy Engineering and Power Technology from the file scimagojr-3.xlsx, which ranks countries based on their journal contributions in the aforementioned area. Call this DataFrame ScimEn.\n",
    "* Join the three datasets: GDP, Energy, and ScimEn into a new dataset (using the intersection of country names). Use only the last 10 years (2006-2015) of GDP data and only the top 15 countries by Scimagojr 'Rank' (Rank 1 through 15).\n",
    "* The index of this DataFrame should be the name of the country, and the columns should be *('Rank', 'Documents', 'Citable documents', 'Citations', 'Self-citations', 'Citations per document', 'H index', 'Energy Supply', 'Energy Supply per Capita', '% Renewable', '2006', '2007', '2008', '2009', '2010', '2011', '2012', '2013', '2014', '2015'.)*\n",
    "\n",
    "*This function should return a DataFrame with 20 columns and 15 entries.*"
   ]
  },
  {
   "cell_type": "code",
   "execution_count": 86,
   "metadata": {
    "ExecuteTime": {
     "end_time": "2019-03-30T04:21:27.967213Z",
     "start_time": "2019-03-30T04:21:27.941307Z"
    },
    "cell_style": "center",
    "scrolled": false
   },
   "outputs": [
    {
     "data": {
      "text/html": [
       "<div>\n",
       "<style scoped>\n",
       "    .dataframe tbody tr th:only-of-type {\n",
       "        vertical-align: middle;\n",
       "    }\n",
       "\n",
       "    .dataframe tbody tr th {\n",
       "        vertical-align: top;\n",
       "    }\n",
       "\n",
       "    .dataframe thead th {\n",
       "        text-align: right;\n",
       "    }\n",
       "</style>\n",
       "<table border=\"1\" class=\"dataframe\">\n",
       "  <thead>\n",
       "    <tr style=\"text-align: right;\">\n",
       "      <th></th>\n",
       "      <th>Country</th>\n",
       "      <th>Energy Supply</th>\n",
       "      <th>Energy Supply per Capita</th>\n",
       "      <th>% Renewable</th>\n",
       "    </tr>\n",
       "  </thead>\n",
       "  <tbody>\n",
       "    <tr>\n",
       "      <th>0</th>\n",
       "      <td>Afghanistan</td>\n",
       "      <td>0.000321</td>\n",
       "      <td>10.0</td>\n",
       "      <td>78.669280</td>\n",
       "    </tr>\n",
       "    <tr>\n",
       "      <th>1</th>\n",
       "      <td>Albania</td>\n",
       "      <td>0.000102</td>\n",
       "      <td>35.0</td>\n",
       "      <td>100.000000</td>\n",
       "    </tr>\n",
       "    <tr>\n",
       "      <th>2</th>\n",
       "      <td>Algeria</td>\n",
       "      <td>0.001959</td>\n",
       "      <td>51.0</td>\n",
       "      <td>0.551010</td>\n",
       "    </tr>\n",
       "    <tr>\n",
       "      <th>3</th>\n",
       "      <td>American Samoa</td>\n",
       "      <td>NaN</td>\n",
       "      <td>NaN</td>\n",
       "      <td>0.641026</td>\n",
       "    </tr>\n",
       "    <tr>\n",
       "      <th>4</th>\n",
       "      <td>Andorra</td>\n",
       "      <td>0.000009</td>\n",
       "      <td>121.0</td>\n",
       "      <td>88.695650</td>\n",
       "    </tr>\n",
       "  </tbody>\n",
       "</table>\n",
       "</div>"
      ],
      "text/plain": [
       "          Country  Energy Supply  Energy Supply per Capita  % Renewable\n",
       "0     Afghanistan       0.000321                      10.0    78.669280\n",
       "1         Albania       0.000102                      35.0   100.000000\n",
       "2         Algeria       0.001959                      51.0     0.551010\n",
       "3  American Samoa            NaN                       NaN     0.641026\n",
       "4         Andorra       0.000009                     121.0    88.695650"
      ]
     },
     "execution_count": 86,
     "metadata": {},
     "output_type": "execute_result"
    }
   ],
   "source": [
    "import pandas as pd\n",
    "\n",
    "df = pd.read_excel('Energy Indicators.xls', skiprows=17, skipfooter=38, na_values='...')\n",
    "\n",
    "# remove first two columns\n",
    "df = df.drop(df.columns[[0, 1]], axis = 1)\n",
    "\n",
    "# rename columns\n",
    "df.columns = ['Country', 'Energy Supply', 'Energy Supply per Capita', '% Renewable']\n",
    "\n",
    "# convert petajoules to gigajoules\n",
    "df['Energy Supply'] = df['Energy Supply'] / 1000000\n",
    "\n",
    "# rename country names\n",
    "values_to_replace = {\n",
    "    'Republic of Korea': 'South Korea', \n",
    "    'United States of America': 'United States',\n",
    "    'United Kingdom of Great Britain and Northern Ireland': 'United Kingdom',\n",
    "    'China, Hong Kong Special Administrative Region': 'Hong Kong'\n",
    "}\n",
    "df = df.replace(to_replace = values_to_replace)\n",
    "\n",
    "# rename countries with parenthesis, and with numbers in the name\n",
    "df['Country'] = df['Country'].str.replace(r'\\s\\(.*\\)', '')\n",
    "# rename countries with numbers in their name, we want to remove the numbers\n",
    "df['Country'] = df['Country'].str.replace(r'[0-9]', '')\n",
    "df.head()"
   ]
  }
 ],
 "metadata": {
  "kernelspec": {
   "display_name": "Python 3",
   "language": "python",
   "name": "python3"
  },
  "language_info": {
   "codemirror_mode": {
    "name": "ipython",
    "version": 3
   },
   "file_extension": ".py",
   "mimetype": "text/x-python",
   "name": "python",
   "nbconvert_exporter": "python",
   "pygments_lexer": "ipython3",
   "version": "3.7.1"
  },
  "varInspector": {
   "cols": {
    "lenName": 16,
    "lenType": 16,
    "lenVar": 40
   },
   "kernels_config": {
    "python": {
     "delete_cmd_postfix": "",
     "delete_cmd_prefix": "del ",
     "library": "var_list.py",
     "varRefreshCmd": "print(var_dic_list())"
    },
    "r": {
     "delete_cmd_postfix": ") ",
     "delete_cmd_prefix": "rm(",
     "library": "var_list.r",
     "varRefreshCmd": "cat(var_dic_list()) "
    }
   },
   "types_to_exclude": [
    "module",
    "function",
    "builtin_function_or_method",
    "instance",
    "_Feature"
   ],
   "window_display": false
  }
 },
 "nbformat": 4,
 "nbformat_minor": 2
}
