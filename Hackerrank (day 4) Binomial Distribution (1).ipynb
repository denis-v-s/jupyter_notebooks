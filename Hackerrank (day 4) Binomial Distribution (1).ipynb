{
 "cells": [
  {
   "cell_type": "markdown",
   "metadata": {},
   "source": [
    "## Problem 1"
   ]
  },
  {
   "cell_type": "markdown",
   "metadata": {},
   "source": [
    "The ratio of boys to girls for babies born in Russia is 1.09 : 1  If there is  child born per birth, what proportion of Russian families with exactly 6 children will have at least 3 boys?\n",
    "\n",
    "Write a program to compute the answer using the above parameters. Then print your result, rounded to a scale of 3 decimal places (i.e., 1.234 format)."
   ]
  },
  {
   "cell_type": "markdown",
   "metadata": {},
   "source": [
    "### Solution 1"
   ]
  },
  {
   "cell_type": "code",
   "execution_count": 2,
   "metadata": {},
   "outputs": [
    {
     "name": "stdout",
     "output_type": "stream",
     "text": [
      "0.696\n"
     ]
    }
   ],
   "source": [
    "import itertools\n",
    "boys = 3\n",
    "children = 6\n",
    "\n",
    "# calculate probability of k successes\n",
    "def binomial_distribution(odds_of_success, odds_of_failure, k, n, combinations):\n",
    "    p = odds_of_success / (odds_of_success + odds_of_failure)\n",
    "    q = 1 - p\n",
    "    p_of_k = combinations * (p**k) * (q**(n - k))\n",
    "    return round(p_of_k, 3)\n",
    "\n",
    "result = 0\n",
    "for i in range(boys, 7):\n",
    "    combinations = len(tuple(itertools.combinations('BBBGGG', i)))\n",
    "    result += binomial_distribution(1.09, 1, i, children, combinations)\n",
    "    \n",
    "print(result)"
   ]
  },
  {
   "cell_type": "markdown",
   "metadata": {},
   "source": [
    "### Solution 2\n",
    "(with the use of scipy)"
   ]
  },
  {
   "cell_type": "code",
   "execution_count": 4,
   "metadata": {},
   "outputs": [
    {
     "name": "stdout",
     "output_type": "stream",
     "text": [
      "0.696\n"
     ]
    }
   ],
   "source": [
    "from scipy.stats import binom\n",
    "p = 1.09 / (1 + 1.09)\n",
    "result = sum([binom.pmf(3 + i, 6, p) for i in range(4)])\n",
    "print(round(result, 3))"
   ]
  },
  {
   "cell_type": "markdown",
   "metadata": {},
   "source": [
    "## Problem 2"
   ]
  },
  {
   "cell_type": "markdown",
   "metadata": {},
   "source": [
    "A manufacturer of metal pistons finds that, on average, 12% of the pistons they manufacture are rejected because they are incorrectly sized. What is the probability that a batch of 10 pistons will contain:\n",
    "\n",
    "* No more than 2 rejects?\n",
    "* At least 2 rejects?"
   ]
  },
  {
   "cell_type": "markdown",
   "metadata": {},
   "source": [
    "##### output format"
   ]
  },
  {
   "cell_type": "markdown",
   "metadata": {},
   "source": [
    "Print the answer to each question on its own line:\n",
    "\n",
    "The first line should contain the probability that a batch of 10 pistons will contain no more than 2 rejects.\n",
    "The second line should contain the probability that a batch of 10 pistons will contain at least 2 rejects.\n",
    "Round both of your answers to a scale of 3 decimal places (i.e., 1.234 format)."
   ]
  },
  {
   "cell_type": "markdown",
   "metadata": {},
   "source": [
    "##### expected output"
   ]
  },
  {
   "cell_type": "markdown",
   "metadata": {},
   "source": [
    "* 0.891\n",
    "* 0.342"
   ]
  },
  {
   "cell_type": "markdown",
   "metadata": {},
   "source": [
    "### Solution 1"
   ]
  },
  {
   "cell_type": "code",
   "execution_count": 25,
   "metadata": {},
   "outputs": [
    {
     "name": "stdout",
     "output_type": "stream",
     "text": [
      "0.891\n",
      "0.342\n"
     ]
    }
   ],
   "source": [
    "from scipy.stats import binom\n",
    "p = .12\n",
    "n = 10\n",
    "\n",
    "# no more than 2 rejects (computes probability of 0, 1, then 2 rejects and adds the three together)\n",
    "result_1 = sum([binom.pmf(0 + i, n, p) for i in range(3)])\n",
    "print(round(result_1, 3))\n",
    "\n",
    "# at least 2 rejects (computes probability of 2, 3 ... 10 rejects and adds them all together)\n",
    "result_2 = sum([binom.pmf(2 + i, n, p) for i in range(9)])\n",
    "print(round(result_2, 3))"
   ]
  },
  {
   "cell_type": "markdown",
   "metadata": {},
   "source": [
    "### Solution 2"
   ]
  },
  {
   "cell_type": "markdown",
   "metadata": {},
   "source": [
    "(without scipy)"
   ]
  },
  {
   "cell_type": "code",
   "execution_count": 33,
   "metadata": {},
   "outputs": [
    {
     "name": "stdout",
     "output_type": "stream",
     "text": [
      "0.891\n",
      "0.342\n"
     ]
    }
   ],
   "source": [
    "from math import factorial\n",
    "\n",
    "# calculate probability of k successes, out of n entries\n",
    "# k - number of successes\n",
    "# n - total inputs\n",
    "# p - probability of success\n",
    "def binomial_distribution(k, n, p):\n",
    "    q = 1 - p\n",
    "    c = (factorial(n) / (factorial(k) * factorial(n - k)))\n",
    "    result = c * (p**k) * (q**(n - k))\n",
    "    return result\n",
    "\n",
    "result_1 = sum([binomial_distribution(2 - i, 10, .12) for i in range(3)])\n",
    "result_2 = sum([binomial_distribution(2 + i, 10, .12) for i in range(9)])\n",
    "    \n",
    "print(round(result_1, 3))\n",
    "print(round(result_2, 3))"
   ]
  }
 ],
 "metadata": {
  "kernelspec": {
   "display_name": "Python 3",
   "language": "python",
   "name": "python3"
  },
  "language_info": {
   "codemirror_mode": {
    "name": "ipython",
    "version": 3
   },
   "file_extension": ".py",
   "mimetype": "text/x-python",
   "name": "python",
   "nbconvert_exporter": "python",
   "pygments_lexer": "ipython3",
   "version": "3.7.1"
  }
 },
 "nbformat": 4,
 "nbformat_minor": 2
}
